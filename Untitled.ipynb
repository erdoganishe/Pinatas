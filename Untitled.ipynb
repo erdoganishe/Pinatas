{
 "cells": [
  {
   "cell_type": "code",
   "execution_count": 27,
   "id": "9cc567a6",
   "metadata": {},
   "outputs": [],
   "source": [
    "import itertools\n",
    "\n",
    "\n",
    "class Pinatas:\n",
    "    def __init__(self, list):\n",
    "        self.list = list\n",
    "        self.result = 0\n",
    "    def remove(self, index):\n",
    "        if (index>=len(self.list)):\n",
    "            raise StopIteration()\n",
    "        elif (len(self.list)==1):\n",
    "            self.result+=self.list[0]\n",
    "            del(self.list[0])\n",
    "        elif (index == 0 and index!=len(self.list)-1):\n",
    "            self.result += self.list[0]*self.list[1]\n",
    "            del(self.list[0])\n",
    "        elif (index == len(self.list)-1 and index != 0):\n",
    "            self.result += self.list[index]*self.list[index-1]\n",
    "            del(self.list[index])\n",
    "        else:\n",
    "            self.result += self.list[index+1]*self.list[index]*self.list[index-1]\n",
    "            del(self.list[index])\n"
   ]
  },
  {
   "cell_type": "code",
   "execution_count": 63,
   "id": "f770ae93",
   "metadata": {},
   "outputs": [
    {
     "name": "stdout",
     "output_type": "stream",
     "text": [
      "382 [2, 1, 3, 4, 0]\n"
     ]
    }
   ],
   "source": [
    "pin = Pinatas([7,5,3,4,5])\n",
    "\n",
    "index_perm = []\n",
    "for i in range(0, len(pin.list)):\n",
    "    index_perm.append(i)\n",
    "index_perm = list(itertools.permutations(index_perm))\n",
    "\n",
    "def get_result(pin, index_order):\n",
    "    pin2 = Pinatas(pin.list.copy())\n",
    "    index2 = index_order.copy()\n",
    "\n",
    "    for i in index_order:\n",
    "        pin2.remove(i)\n",
    "        \n",
    "        for j in range(0, len(index_order)):\n",
    "            if i<index_order[j]:\n",
    "                index_order[j]-=1\n",
    "\n",
    "    return (pin2.result, index2)\n",
    "max_res = 0\n",
    "max_ord = []\n",
    "for index in index_perm:\n",
    "    (res, ord) = get_result(pin,list(index))\n",
    "    if (res>max_res):\n",
    "        max_res = res\n",
    "        max_ord = ord\n",
    "\n",
    "print(max_res, max_ord)"
   ]
  },
  {
   "cell_type": "code",
   "execution_count": null,
   "id": "88c80eb4",
   "metadata": {},
   "outputs": [],
   "source": []
  },
  {
   "cell_type": "code",
   "execution_count": null,
   "id": "d82f64f4",
   "metadata": {},
   "outputs": [],
   "source": []
  }
 ],
 "metadata": {
  "kernelspec": {
   "display_name": "Python 3 (ipykernel)",
   "language": "python",
   "name": "python3"
  },
  "language_info": {
   "codemirror_mode": {
    "name": "ipython",
    "version": 3
   },
   "file_extension": ".py",
   "mimetype": "text/x-python",
   "name": "python",
   "nbconvert_exporter": "python",
   "pygments_lexer": "ipython3",
   "version": "3.10.9"
  }
 },
 "nbformat": 4,
 "nbformat_minor": 5
}
